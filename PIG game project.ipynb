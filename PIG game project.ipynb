{
 "cells": [
  {
   "cell_type": "code",
   "execution_count": 29,
   "id": "963024b4",
   "metadata": {},
   "outputs": [],
   "source": [
    "import random"
   ]
  },
  {
   "cell_type": "code",
   "execution_count": 30,
   "id": "779e06bc",
   "metadata": {},
   "outputs": [],
   "source": [
    "def roll():\n",
    "    min_value=1\n",
    "    max_value=6\n",
    "    roll = random.randint(min_value,max_value)\n",
    "    return roll"
   ]
  },
  {
   "cell_type": "code",
   "execution_count": 31,
   "id": "5e6c8221",
   "metadata": {},
   "outputs": [
    {
     "name": "stdout",
     "output_type": "stream",
     "text": [
      "Enter the number of players (2-4): 2\n",
      "2\n"
     ]
    }
   ],
   "source": [
    "while True:\n",
    "    players=input(\"Enter the number of players (2-4): \")\n",
    "    if players.isdigit():\n",
    "        players=int(players)\n",
    "        if 2 <= players <= 4:\n",
    "            break\n",
    "        else:\n",
    "            print(\"Must be between 2 - 4 players: \")\n",
    "    else:\n",
    "        print(\"Invalid, Try again.\")\n",
    "print(players)"
   ]
  },
  {
   "cell_type": "code",
   "execution_count": 32,
   "id": "c0f5f396",
   "metadata": {},
   "outputs": [],
   "source": [
    "max_score=50\n",
    "players_scores=[0 for _ in range(players)]"
   ]
  },
  {
   "cell_type": "code",
   "execution_count": 33,
   "id": "3c132410",
   "metadata": {},
   "outputs": [
    {
     "name": "stdout",
     "output_type": "stream",
     "text": [
      "\n",
      "Player number 1 turn has just started!\n",
      "Your total score is: 0 \n",
      "\n",
      "Would you like to roll(y)? y\n",
      "You rolled a:  4\n",
      "Your score is:  4\n",
      "Would you like to roll(y)? y\n",
      "You rolled a:  4\n",
      "Your score is:  8\n",
      "Would you like to roll(y)? y\n",
      "You rolled a:  4\n",
      "Your score is:  12\n",
      "Would you like to roll(y)? y\n",
      "You rolled a:  6\n",
      "Your score is:  18\n",
      "Would you like to roll(y)? y\n",
      "You rolled a:  3\n",
      "Your score is:  21\n",
      "Would you like to roll(y)? n\n",
      "Your total score is:  21\n",
      "\n",
      "Player number 2 turn has just started!\n",
      "Your total score is: 0 \n",
      "\n",
      "Would you like to roll(y)? y\n",
      "You rolled a 1! Turn done!\n",
      "Your total score is:  0\n",
      "\n",
      "Player number 1 turn has just started!\n",
      "Your total score is: 21 \n",
      "\n",
      "Would you like to roll(y)? y\n",
      "You rolled a:  2\n",
      "Your score is:  2\n",
      "Would you like to roll(y)? y\n",
      "You rolled a:  2\n",
      "Your score is:  4\n",
      "Would you like to roll(y)? y\n",
      "You rolled a 1! Turn done!\n",
      "Your total score is:  21\n",
      "\n",
      "Player number 2 turn has just started!\n",
      "Your total score is: 0 \n",
      "\n",
      "Would you like to roll(y)? y\n",
      "You rolled a:  3\n",
      "Your score is:  3\n",
      "Would you like to roll(y)? y\n",
      "You rolled a:  3\n",
      "Your score is:  6\n",
      "Would you like to roll(y)? y\n",
      "You rolled a:  6\n",
      "Your score is:  12\n",
      "Would you like to roll(y)? y\n",
      "You rolled a:  6\n",
      "Your score is:  18\n",
      "Would you like to roll(y)? y\n",
      "You rolled a:  4\n",
      "Your score is:  22\n",
      "Would you like to roll(y)? y\n",
      "You rolled a:  4\n",
      "Your score is:  26\n",
      "Would you like to roll(y)? y\n",
      "You rolled a:  4\n",
      "Your score is:  30\n",
      "Would you like to roll(y)? n\n",
      "Your total score is:  30\n",
      "\n",
      "Player number 1 turn has just started!\n",
      "Your total score is: 21 \n",
      "\n",
      "Would you like to roll(y)? y\n",
      "You rolled a:  3\n",
      "Your score is:  3\n",
      "Would you like to roll(y)? y\n",
      "You rolled a:  5\n",
      "Your score is:  8\n",
      "Would you like to roll(y)? y\n",
      "You rolled a:  2\n",
      "Your score is:  10\n",
      "Would you like to roll(y)? y\n",
      "You rolled a:  6\n",
      "Your score is:  16\n",
      "Would you like to roll(y)? y\n",
      "You rolled a:  6\n",
      "Your score is:  22\n",
      "Would you like to roll(y)? y\n",
      "You rolled a:  2\n",
      "Your score is:  24\n",
      "Would you like to roll(y)? y\n",
      "You rolled a:  5\n",
      "Your score is:  29\n",
      "Would you like to roll(y)? n\n",
      "Your total score is:  50\n",
      "\n",
      "Player number 2 turn has just started!\n",
      "Your total score is: 30 \n",
      "\n",
      "Would you like to roll(y)? y\n",
      "You rolled a 1! Turn done!\n",
      "Your total score is:  30\n",
      "Player number 1 is the winner with a score of:  50\n"
     ]
    }
   ],
   "source": [
    "while max(players_scores) < max_score:\n",
    "    for player_idx in range(players):\n",
    "        print(\"\\nPlayer number\",player_idx+1,\"turn has just started!\")\n",
    "        print(\"Your total score is:\", players_scores[player_idx],\"\\n\")\n",
    "        current_score=0\n",
    "        while True:\n",
    "            should_roll=input(\"Would you like to roll(y)? \")\n",
    "            if should_roll.lower()!=\"y\":\n",
    "                break\n",
    "            value=roll()\n",
    "            if value==1:\n",
    "                print(\"You rolled a 1! Turn done!\")\n",
    "                current_score=0\n",
    "                break\n",
    "            else:\n",
    "                current_score+=value\n",
    "                print(\"You rolled a: \", value)\n",
    "            print(\"Your score is: \", current_score)\n",
    "        players_scores[player_idx]+=current_score\n",
    "        print(\"Your total score is: \",players_scores[player_idx])\n",
    "max_score=max(players_scores)\n",
    "winning_idx=players_scores.index(max_score)\n",
    "print(\"Player number\",winning_idx+1,\"is the winner with a score of: \",max_score)"
   ]
  },
  {
   "cell_type": "code",
   "execution_count": null,
   "id": "055c5d17",
   "metadata": {},
   "outputs": [],
   "source": []
  }
 ],
 "metadata": {
  "kernelspec": {
   "display_name": "Python 3 (ipykernel)",
   "language": "python",
   "name": "python3"
  },
  "language_info": {
   "codemirror_mode": {
    "name": "ipython",
    "version": 3
   },
   "file_extension": ".py",
   "mimetype": "text/x-python",
   "name": "python",
   "nbconvert_exporter": "python",
   "pygments_lexer": "ipython3",
   "version": "3.11.5"
  }
 },
 "nbformat": 4,
 "nbformat_minor": 5
}
